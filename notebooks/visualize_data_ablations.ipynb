{
 "cells": [
  {
   "cell_type": "code",
   "execution_count": null,
   "metadata": {},
   "outputs": [],
   "source": [
    "import pandas as pd\n",
    "import matplotlib.pyplot as plt\n",
    "\n",
    "# Create a dictionary from your data\n",
    "data = {\n",
    "    'Training Datapoints': [26, 122, 734, 1458, 4356],\n",
    "    'PatchRecovery': [0.2949, 0.2679, 0.2424, 0.2347, 0.2281],\n",
    "    'PowerConv[28,64,128,64,1]': [0.2275, 0.1843, 0.1564, 0.151, 0.1532],\n",
    "    'PowerConv[28,64,1]': [0.234, 0.1904, 0.1762, 0.1602, 0.1559],\n",
    "    'LoRA[r=1]': [0.2034, 0.1675, 0.1564, 0.1506, 0.1462],\n",
    "    'LoRA[r=16]': [0.214, 0.175, 0.1554, 0.1474, 0.1457]\n",
    "}\n",
    "\n",
    "# Convert data to a DataFrame\n",
    "df = pd.DataFrame(data)\n",
    "\n",
    "# Plot the RMSE for each model configuration\n",
    "plt.figure(figsize=(12, 7), dpi=600)\n",
    "line_styles = ['-', '--', '-.', ':']\n",
    "markers = ['o', 's', 'D', '^', 'v', '<', '>', 'p', '*', 'h', 'H', '+', 'x', 'd', '|', '_']\n",
    "for i, model in enumerate(['PatchRecovery', 'PowerConv[28,64,128,64,1]', 'PowerConv[28,64,1]', 'LoRA[r=1]', 'LoRA[r=16]']):\n",
    "    plt.plot(df['Training Datapoints'], df[model], label=model, linestyle=line_styles[i % len(line_styles)], marker=markers[i%len(markers)])\n",
    "\n",
    "plt.xscale('log')\n",
    "plt.xlabel('Number of training datapoints')\n",
    "plt.ylabel('RMSE on test data')\n",
    "# plt.title('RMSE vs. Training Datapoints for Different Models')\n",
    "\n",
    "plt.legend(title='Model Type')\n",
    "\n",
    "\n",
    "plt.legend()\n",
    "plt.grid(True)\n",
    "\n",
    "# Save the figure as a PDF\n",
    "plt.savefig('data_ablation_rmse.pdf')\n",
    "\n",
    "plt.show()\n"
   ]
  },
  {
   "cell_type": "code",
   "execution_count": null,
   "metadata": {},
   "outputs": [],
   "source": []
  }
 ],
 "metadata": {
  "kernelspec": {
   "display_name": "venv_amd",
   "language": "python",
   "name": "python3"
  },
  "language_info": {
   "codemirror_mode": {
    "name": "ipython",
    "version": 3
   },
   "file_extension": ".py",
   "mimetype": "text/x-python",
   "name": "python",
   "nbconvert_exporter": "python",
   "pygments_lexer": "ipython3",
   "version": "3.9.16"
  }
 },
 "nbformat": 4,
 "nbformat_minor": 2
}
