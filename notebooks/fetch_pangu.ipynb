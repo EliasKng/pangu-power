{
 "cells": [
  {
   "cell_type": "code",
   "execution_count": null,
   "id": "initial_id",
   "metadata": {
    "ExecuteTime": {
     "end_time": "2024-08-23T09:49:06.739096Z",
     "start_time": "2024-08-23T09:49:06.630177Z"
    }
   },
   "outputs": [],
   "source": [
    "import sys\n",
    "import os\n",
    "\n",
    "# Add the path to the wind_fusion directory\n",
    "sys.path.append(os.path.abspath(os.path.join(os.getcwd(), os.pardir)))\n",
    "from wind_fusion.utils import fetch_pangu"
   ]
  },
  {
   "cell_type": "code",
   "execution_count": null,
   "id": "e58bfd53ccfea23c",
   "metadata": {
    "ExecuteTime": {
     "start_time": "2024-08-23T09:49:30.848476Z"
    },
    "jupyter": {
     "is_executing": true
    }
   },
   "outputs": [],
   "source": [
    "fetch_pangu.fetch_checkpoint('24','test.onnx')"
   ]
  },
  {
   "cell_type": "code",
   "execution_count": null,
   "id": "c6b7eb2db3215856",
   "metadata": {},
   "outputs": [],
   "source": []
  }
 ],
 "metadata": {
  "kernelspec": {
   "display_name": "Python 3",
   "language": "python",
   "name": "python3"
  },
  "language_info": {
   "codemirror_mode": {
    "name": "ipython",
    "version": 2
   },
   "file_extension": ".py",
   "mimetype": "text/x-python",
   "name": "python",
   "nbconvert_exporter": "python",
   "pygments_lexer": "ipython2",
   "version": "2.7.6"
  }
 },
 "nbformat": 4,
 "nbformat_minor": 5
}
