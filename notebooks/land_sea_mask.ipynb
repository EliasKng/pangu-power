{
 "cells": [
  {
   "cell_type": "code",
   "execution_count": null,
   "metadata": {},
   "outputs": [],
   "source": [
    "import xarray as xr\n",
    "import matplotlib.pyplot as plt\n",
    "import pandas as pd\n",
    "import numpy as np"
   ]
  },
  {
   "cell_type": "code",
   "execution_count": null,
   "metadata": {},
   "outputs": [],
   "source": [
    "offshore = xr.open_dataset('/lsdf/kit/imk-tro/projects/Gruppe_Quinting/om1434/offshore/offshore.zarr', engine='zarr')\n",
    "offshore"
   ]
  },
  {
   "cell_type": "markdown",
   "metadata": {},
   "source": [
    "Derive a land sea mask out of the energy data by picking all null values. Then make sure they look all the same by picking 50 random timepoints and copare them"
   ]
  },
  {
   "cell_type": "code",
   "execution_count": null,
   "metadata": {},
   "outputs": [],
   "source": [
    "dataarray = offshore.sel(time='2009-01-01T00:00:00').wofcfr\n",
    "dataarray = dataarray.drop_vars('time')\n",
    "\n",
    "lsm_derived = offshore.sel(time='2009-01-01T00:00:00').wofcfr.isnull().astype(int)\n",
    "lsm_derived = lsm_derived.rename('lsm')\n",
    "lsm_derived = lsm_derived.drop_vars('time')"
   ]
  },
  {
   "cell_type": "code",
   "execution_count": null,
   "metadata": {},
   "outputs": [],
   "source": [
    "# Pick 5 random timestamps\n",
    "timestamps = np.random.choice(offshore.time.values, 2, replace=False)\n",
    "\n",
    "for i, ts in enumerate(timestamps):\n",
    "    lsm_derived_ts = offshore.sel(time=ts).wofcfr.isnull().astype(int)\n",
    "    # Compare numerically\n",
    "    assert np.array_equal(lsm_derived, lsm_derived_ts), f\"Mismatch at timestamp {ts}\""
   ]
  },
  {
   "cell_type": "code",
   "execution_count": null,
   "metadata": {},
   "outputs": [],
   "source": [
    "lsm_derived.to_zarr('/lsdf/kit/imk-tro/projects/Gruppe_Quinting/om1434/offshore/lsm_derived.zarr', mode='w')"
   ]
  },
  {
   "cell_type": "markdown",
   "metadata": {},
   "source": [
    "Expand coordinate system to fit era5"
   ]
  },
  {
   "cell_type": "code",
   "execution_count": null,
   "metadata": {},
   "outputs": [],
   "source": [
    "# Expand the latitude and longitude dimensions to cover the whole globe\n",
    "expanded_latitude = np.arange(-90, 90.25, 0.25)\n",
    "expanded_longitude = np.arange(-180, 180, 0.25)\n",
    "\n",
    "# Reindex the lsm_derived to the new global coordinates. Method=None: fill the gaps with NAs\n",
    "lsm_global = lsm_derived.reindex(latitude=expanded_latitude, longitude=expanded_longitude, method=None)\n",
    "# Roll the longitudes [-180, 180) -> [0, 360) - by 180 degrees\n",
    "lsm_global = lsm_global.roll(longitude=180*4, roll_coords=True)\n",
    "# Convert negative longitudes to positive\n",
    "lsm_global.coords['longitude'] = (lsm_global.coords['longitude'] + 360) % 360\n",
    "\n",
    "lsm_global.plot()"
   ]
  },
  {
   "cell_type": "code",
   "execution_count": null,
   "metadata": {},
   "outputs": [],
   "source": [
    "lsm_global.to_zarr('/lsdf/kit/imk-tro/projects/Gruppe_Quinting/om1434/offshore/lsm_global.zarr', mode='w')"
   ]
  },
  {
   "cell_type": "code",
   "execution_count": null,
   "metadata": {},
   "outputs": [],
   "source": [
    "import xarray as xr\n",
    "import numpy as np\n",
    "import matplotlib.pyplot as plt\n",
    "\n",
    "lsm = xr.load_dataarray(\"/lsdf/kit/imk-tro/projects/Gruppe_Quinting/om1434/offshore/lsm_global.zarr\", engine=\"zarr\")\n",
    "lsm = xr.where(lsm.isnull(), float(\"nan\"), xr.where(lsm == 0, 1, float(\"nan\"))).values\n",
    "# lsm = np.flipud(lsm).copy()\n",
    "\n",
    "lsm_xr = xr.DataArray(lsm, dims=[\"latitude\", \"longitude\"])\n",
    "fig, ax = plt.subplots(figsize=(12/2, 8/2), dpi=150)\n",
    "lsm_xr.plot(ax=ax)\n",
    "plt.show()"
   ]
  },
  {
   "cell_type": "markdown",
   "metadata": {},
   "source": [
    "Cut out left part of europe"
   ]
  },
  {
   "cell_type": "code",
   "execution_count": null,
   "metadata": {},
   "outputs": [],
   "source": [
    "lsm_cut = lsm[466 : 651, :183]\n",
    "print(lsm_cut.shape)\n",
    "\n",
    "lsm_xr = xr.DataArray(lsm_cut, dims=[\"latitude\", \"longitude\"])\n",
    "fig, ax = plt.subplots(figsize=(12/2, 8/2), dpi=150)\n",
    "lsm_xr.plot(ax=ax)\n",
    "print(lsm_cut[184,182])"
   ]
  },
  {
   "cell_type": "code",
   "execution_count": null,
   "metadata": {},
   "outputs": [],
   "source": []
  }
 ],
 "metadata": {
  "kernelspec": {
   "display_name": "venv_amd",
   "language": "python",
   "name": "python3"
  },
  "language_info": {
   "codemirror_mode": {
    "name": "ipython",
    "version": 3
   },
   "file_extension": ".py",
   "mimetype": "text/x-python",
   "name": "python",
   "nbconvert_exporter": "python",
   "pygments_lexer": "ipython3",
   "version": "3.9.16"
  }
 },
 "nbformat": 4,
 "nbformat_minor": 2
}
