{
 "cells": [
  {
   "cell_type": "code",
   "execution_count": null,
   "metadata": {},
   "outputs": [],
   "source": [
    "import sys\n",
    "import os\n",
    "sys.path.append(os.path.abspath(os.path.join(os.getcwd(), os.pardir)))\n",
    "from wind_fusion.pangu_pytorch.era5_data.utils import visuailze_all, visuailze_surface\n",
    "\n",
    "import torch\n"
   ]
  },
  {
   "cell_type": "code",
   "execution_count": null,
   "metadata": {},
   "outputs": [],
   "source": [
    "pg_biases_path = \"/lsdf/kit/imk-tro/projects/Gruppe_Quinting/om1434/pangu_biases\"\n",
    "\n",
    "sample_surface = torch.load(os.path.join(pg_biases_path, \"bias_surface_2018033100.pth\"), map_location=torch.device('cpu'), weights_only=False)\n",
    "sample_upper = torch.load(os.path.join(pg_biases_path, \"bias_upper_2018033100.pth\"), map_location=torch.device('cpu'), weights_only=False)"
   ]
  },
  {
   "cell_type": "code",
   "execution_count": null,
   "metadata": {},
   "outputs": [],
   "source": [
    "zero_tensor = torch.tensor([0])\n",
    "\n",
    "print(sample_surface.shape)\n",
    "\n",
    "sample_surface = sample_surface.squeeze(0).detach()\n",
    "\n",
    "visuailze_surface(sample_surface, sample_surface, sample_surface, \"u10\", \"2018033100\", \"./\")"
   ]
  },
  {
   "cell_type": "code",
   "execution_count": null,
   "metadata": {},
   "outputs": [],
   "source": [
    "# Get all filenames in the directory\n",
    "all_files = os.listdir(pg_biases_path)\n",
    "\n",
    "# Filter out the ones containing 'surface_2018'\n",
    "surface_files = [f for f in all_files if 'surface_2018' in f]\n",
    "\n",
    "surface_files = [torch.load(os.path.join(pg_biases_path, f), map_location=torch.device('cpu'), weights_only=False) for f in surface_files]\n",
    "\n",
    "mean_surface = torch.mean(torch.stack(surface_files), dim=0)"
   ]
  },
  {
   "cell_type": "code",
   "execution_count": null,
   "metadata": {},
   "outputs": [],
   "source": [
    "mean_surface = mean_surface.squeeze(0).detach()\n",
    "\n",
    "visuailze_surface(mean_surface, mean_surface, mean_surface, \"u10\", \"2018033100\", \"./\")"
   ]
  },
  {
   "cell_type": "markdown",
   "metadata": {},
   "source": [
    "# Do this for bias instead of output."
   ]
  },
  {
   "cell_type": "code",
   "execution_count": null,
   "metadata": {},
   "outputs": [],
   "source": [
    "import matplotlib.pyplot as plt\n",
    "\n",
    "# Flatten the mean_surface tensor to create a 1D array of values\n",
    "mean_surface_flat = mean_surface.flatten().numpy()\n",
    "\n",
    "# Create a histogram\n",
    "plt.hist(mean_surface_flat, bins=50, edgecolor='black')\n",
    "plt.title('Histogram of mean_surface values')\n",
    "plt.xlabel('Value')\n",
    "plt.ylabel('Frequency')\n",
    "plt.show()"
   ]
  },
  {
   "cell_type": "code",
   "execution_count": null,
   "metadata": {},
   "outputs": [],
   "source": []
  }
 ],
 "metadata": {
  "kernelspec": {
   "display_name": "venv_amd",
   "language": "python",
   "name": "python3"
  },
  "language_info": {
   "codemirror_mode": {
    "name": "ipython",
    "version": 3
   },
   "file_extension": ".py",
   "mimetype": "text/x-python",
   "name": "python",
   "nbconvert_exporter": "python",
   "pygments_lexer": "ipython3",
   "version": "3.9.16"
  }
 },
 "nbformat": 4,
 "nbformat_minor": 2
}
