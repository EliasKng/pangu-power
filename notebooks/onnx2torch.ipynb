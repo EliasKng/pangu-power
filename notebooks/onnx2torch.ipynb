{
 "cells": [
  {
   "cell_type": "code",
   "execution_count": null,
   "id": "69ebe1efe2a556b9",
   "metadata": {
    "ExecuteTime": {
     "end_time": "2024-08-27T06:17:38.820294Z",
     "start_time": "2024-08-27T06:17:36.979265Z"
    }
   },
   "outputs": [],
   "source": [
    "import onnx\n",
    "import torch\n",
    "from onnx2torch import convert\n",
    "\n",
    "# Path to ONNX model\n",
    "onnx_model_path = \"../pangu_inference/pangu_weather_24.onnx\"\n",
    "onnx_model = onnx.load(onnx_model_path)\n",
    "# torch_model_2 = convert(onnx_model)"
   ]
  },
  {
   "cell_type": "code",
   "execution_count": null,
   "id": "ac211a2eafccc239",
   "metadata": {
    "ExecuteTime": {
     "end_time": "2024-08-26T12:59:20.799879Z",
     "start_time": "2024-08-26T12:58:25.899389Z"
    }
   },
   "outputs": [],
   "source": [
    "print(\"Model's state_dict:\")\n",
    "for param_tensor in torch_model_2.state_dict():\n",
    "    print(param_tensor, \"\\t\", torch_model_2.state_dict()[param_tensor].size())"
   ]
  },
  {
   "cell_type": "code",
   "execution_count": null,
   "id": "83b16ee34d43a24",
   "metadata": {
    "ExecuteTime": {
     "end_time": "2024-08-26T12:37:33.189250Z",
     "start_time": "2024-08-26T12:37:31.127282Z"
    }
   },
   "outputs": [],
   "source": [
    "torch.save(torch_model_2.state_dict(), '../pangu_inference/torch_model2.pt')"
   ]
  },
  {
   "cell_type": "code",
   "execution_count": null,
   "id": "a4050fe3554bc936",
   "metadata": {
    "ExecuteTime": {
     "end_time": "2024-08-26T13:03:36.381768Z",
     "start_time": "2024-08-26T13:03:35.727242Z"
    }
   },
   "outputs": [],
   "source": [
    "from onnx2pytorch import ConvertModel\n",
    "pytorch_model = ConvertModel(onnx_model)\n"
   ]
  },
  {
   "cell_type": "code",
   "execution_count": null,
   "id": "74cbbc49d3d4a125",
   "metadata": {
    "ExecuteTime": {
     "end_time": "2024-08-26T13:06:47.049875Z",
     "start_time": "2024-08-26T13:05:55.267955Z"
    }
   },
   "outputs": [],
   "source": [
    "print(\"Model's state_dict:\")\n",
    "for param_tensor in pytorch_model.state_dict():\n",
    "    print(param_tensor, \"\\t\", pytorch_model.state_dict()[param_tensor].size())"
   ]
  },
  {
   "cell_type": "code",
   "execution_count": null,
   "id": "a47084b89b7bf344",
   "metadata": {
    "ExecuteTime": {
     "end_time": "2024-08-26T13:24:04.201893Z",
     "start_time": "2024-08-26T13:23:39.919937Z"
    }
   },
   "outputs": [],
   "source": [
    "for param_tensor in pytorch_model.state_dict():\n",
    "    print(param_tensor, pytorch_model.state_dict()[param_tensor].shape)"
   ]
  },
  {
   "cell_type": "code",
   "execution_count": null,
   "id": "fbd879ab9d9aa2d3",
   "metadata": {
    "ExecuteTime": {
     "end_time": "2024-08-26T13:57:08.505854Z",
     "start_time": "2024-08-26T13:57:08.183018Z"
    }
   },
   "outputs": [],
   "source": [
    "from onnx import numpy_helper\n",
    "INTIALIZERS  = onnx_model.graph.initializer\n",
    "onnx_weights = {}\n",
    "for initializer in INTIALIZERS:\n",
    "    W = numpy_helper.to_array(initializer)\n",
    "    onnx_weights[initializer.name] = W"
   ]
  },
  {
   "cell_type": "code",
   "execution_count": null,
   "id": "855c3bf270d3f6a1",
   "metadata": {
    "ExecuteTime": {
     "end_time": "2024-08-26T13:57:08.520734Z",
     "start_time": "2024-08-26T13:57:08.516065Z"
    }
   },
   "outputs": [],
   "source": [
    "weights = onnx_model.graph.initializer\n",
    "w1 = numpy_helper.to_array(weights[0])"
   ]
  },
  {
   "cell_type": "code",
   "execution_count": null,
   "id": "66af8d52ae07e4a2",
   "metadata": {
    "ExecuteTime": {
     "end_time": "2024-08-26T14:06:01.861656Z",
     "start_time": "2024-08-26T14:06:01.858838Z"
    }
   },
   "outputs": [],
   "source": [
    "w1"
   ]
  },
  {
   "cell_type": "code",
   "execution_count": null,
   "id": "502443cf30c841e8",
   "metadata": {
    "ExecuteTime": {
     "end_time": "2024-08-26T14:23:35.052923Z",
     "start_time": "2024-08-26T14:23:35.012962Z"
    }
   },
   "outputs": [],
   "source": [
    "sum(p.numel() for p in pytorch_model.state_dict().values())"
   ]
  },
  {
   "cell_type": "code",
   "execution_count": null,
   "id": "cc0d78d06d57880",
   "metadata": {
    "ExecuteTime": {
     "end_time": "2024-08-27T06:34:00.590512Z",
     "start_time": "2024-08-27T06:34:00.149101Z"
    }
   },
   "outputs": [],
   "source": [
    "import onnx\n",
    "\n",
    "onnx_model_path = \"../pangu_inference/pangu_weather_24.onnx\"\n",
    "onnx_model = onnx.load(onnx_model_path)\n",
    "graph = onnx_model.graph"
   ]
  },
  {
   "cell_type": "code",
   "execution_count": null,
   "id": "f480e999f7322ae8",
   "metadata": {},
   "outputs": [],
   "source": [
    "graph"
   ]
  },
  {
   "cell_type": "code",
   "execution_count": null,
   "id": "756578d7bd8b0a8a",
   "metadata": {
    "ExecuteTime": {
     "end_time": "2024-08-27T06:38:39.873786Z",
     "start_time": "2024-08-27T06:38:39.795685Z"
    }
   },
   "outputs": [],
   "source": [
    "\n",
    "# graph inputs\n",
    "for input_name in graph.input:\n",
    "    print(input_name)\n",
    "# graph parameters\n",
    "# for init in graph.init:\n",
    "#     print(init.name)\n",
    "# graph outputs\n",
    "for output_name in graph.output:\n",
    "    print(output_name)\n",
    "# iterate over nodes\n",
    "for node in graph.node:\n",
    "    # node inputs\n",
    "    for idx, node_input_name in enumerate(node.input):\n",
    "        print(idx, node_input_name)\n",
    "    # node outputs\n",
    "    for idx, node_output_name in enumerate(node.output):\n",
    "        print(idx, node_output_name)"
   ]
  },
  {
   "cell_type": "code",
   "execution_count": null,
   "id": "20fddc9a6357c1b3",
   "metadata": {
    "ExecuteTime": {
     "end_time": "2024-08-27T06:40:58.521968Z",
     "start_time": "2024-08-27T06:40:58.454564Z"
    }
   },
   "outputs": [],
   "source": [
    "import onnx\n",
    "from onnx import numpy_helper\n",
    "\n",
    "# Load the ONNX model\n",
    "\n",
    "# Print a human-readable representation of the model\n",
    "print(onnx.helper.printable_graph(onnx_model.graph))"
   ]
  },
  {
   "cell_type": "code",
   "execution_count": null,
   "id": "2d1f065cb191b605",
   "metadata": {
    "ExecuteTime": {
     "end_time": "2024-08-27T06:51:22.533633Z",
     "start_time": "2024-08-27T06:51:15.492123Z"
    }
   },
   "outputs": [],
   "source": [
    "!pip install onnx-simplifier"
   ]
  },
  {
   "cell_type": "code",
   "execution_count": null,
   "id": "15507b299589f311",
   "metadata": {
    "ExecuteTime": {
     "end_time": "2024-08-27T06:54:52.450014Z",
     "start_time": "2024-08-27T06:54:52.444739Z"
    }
   },
   "outputs": [],
   "source": [
    "!pip3 install -U pip && pip3 install onnxsim"
   ]
  },
  {
   "cell_type": "code",
   "execution_count": null,
   "id": "154d033621670841",
   "metadata": {
    "ExecuteTime": {
     "end_time": "2024-08-27T07:04:53.546718Z",
     "start_time": "2024-08-27T07:04:53.479660Z"
    }
   },
   "outputs": [],
   "source": [
    "from onnxsim import simplify"
   ]
  },
  {
   "cell_type": "code",
   "execution_count": null,
   "id": "8a8521229379f3cb",
   "metadata": {
    "ExecuteTime": {
     "end_time": "2024-08-27T07:07:57.076822Z",
     "start_time": "2024-08-27T07:07:16.113681Z"
    }
   },
   "outputs": [],
   "source": [
    "model_simp, check = simplify(onnx_model)"
   ]
  },
  {
   "cell_type": "code",
   "execution_count": null,
   "id": "f145714f34289300",
   "metadata": {
    "ExecuteTime": {
     "end_time": "2024-08-27T07:07:57.098679Z",
     "start_time": "2024-08-27T07:07:57.088502Z"
    }
   },
   "outputs": [],
   "source": [
    "check"
   ]
  },
  {
   "cell_type": "code",
   "execution_count": null,
   "id": "72a811772263b9fe",
   "metadata": {
    "ExecuteTime": {
     "end_time": "2024-08-27T07:16:05.485238Z",
     "start_time": "2024-08-27T07:16:03.943929Z"
    }
   },
   "outputs": [],
   "source": [
    "onnx.save(model_simp, \"../pangu_inference/simp_pangu_weather_24.onnx\")"
   ]
  },
  {
   "cell_type": "code",
   "execution_count": null,
   "id": "4eaa9c0273a48d51",
   "metadata": {
    "ExecuteTime": {
     "end_time": "2024-08-27T07:23:24.253307Z",
     "start_time": "2024-08-27T07:23:21.684413Z"
    }
   },
   "outputs": [],
   "source": [
    "from onnx2pytorch import ConvertModel\n",
    "pytorch_model_sim = ConvertModel(model_simp)\n"
   ]
  },
  {
   "cell_type": "code",
   "execution_count": null,
   "id": "67d38d105383711b",
   "metadata": {
    "ExecuteTime": {
     "end_time": "2024-08-27T07:27:30.793556Z",
     "start_time": "2024-08-27T07:27:29.942480Z"
    }
   },
   "outputs": [],
   "source": [
    "for param_tensor in pytorch_model_sim.state_dict():\n",
    "    print(param_tensor, pytorch_model_sim.state_dict()[param_tensor].shape)"
   ]
  },
  {
   "cell_type": "code",
   "execution_count": null,
   "id": "2e44b119c82a41b9",
   "metadata": {},
   "outputs": [],
   "source": []
  }
 ],
 "metadata": {
  "kernelspec": {
   "display_name": "Python 3 (ipykernel)",
   "language": "python",
   "name": "python3"
  },
  "language_info": {
   "codemirror_mode": {
    "name": "ipython",
    "version": 3
   },
   "file_extension": ".py",
   "mimetype": "text/x-python",
   "name": "python",
   "nbconvert_exporter": "python",
   "pygments_lexer": "ipython3",
   "version": "3.12.4"
  }
 },
 "nbformat": 4,
 "nbformat_minor": 5
}
