{
 "cells": [
  {
   "cell_type": "code",
   "execution_count": null,
   "metadata": {},
   "outputs": [],
   "source": [
    "gradient"
   ]
  },
  {
   "cell_type": "code",
   "execution_count": null,
   "metadata": {},
   "outputs": [],
   "source": [
    "import numpy as np\n",
    "import matplotlib.pyplot as plt\n",
    "import cartopy.crs as ccrs\n",
    "import cartopy.feature as cfeature\n",
    "\n",
    "# visible_coords = [-22, 45, 27, 72]  # [lon_min, lon_max, lat_min, lat_max]\n",
    "visible_coords = [-22, 38.5, 31, 69]  # [lon_min, lon_max, lat_min, lat_max]\n",
    "color_coords = [-22, 45, 27, 72]  # [lon_min, lon_max, lat_min, lat_max]\n",
    "\n",
    "# Generate a color gradient\n",
    "lon_vals = np.linspace(color_coords[0], color_coords[1], 300)\n",
    "lat_vals = np.linspace(color_coords[2], color_coords[3], 300)\n",
    "lon_grid, lat_grid = np.meshgrid(lon_vals, lat_vals)\n",
    "data = np.sin(np.radians(lat_grid)) * np.cos(np.radians(lon_grid))  # Example gradient pattern\n",
    "\n",
    "plt.figure(figsize=(6, 6), dpi=300)\n",
    "ax = plt.axes(projection=ccrs.Orthographic(central_longitude=11.5, central_latitude=49.5))\n",
    "ax.set_extent(visible_coords, crs=ccrs.PlateCarree())  # Crop to the Europe area\n",
    "ax.coastlines(resolution='50m', linewidth=0.5, color='gray')\n",
    "ax.add_feature(cfeature.BORDERS, linewidth=0.5, color='gray')\n",
    "\n",
    "# Plot the color gradient with imshow\n",
    "ax.imshow(data, extent=color_coords, origin='lower', transform=ccrs.PlateCarree(), cmap='coolwarm', alpha=0.6)\n",
    "\n",
    "# Set finer gridlines with 10-degree resolution\n",
    "gl = ax.gridlines(draw_labels=True, xlocs=np.arange(-180, 181, 10), ylocs=np.arange(-90, 91, 10))\n",
    "gl.top_labels = False\n",
    "gl.right_labels = False\n",
    "\n",
    "plt.show()"
   ]
  },
  {
   "cell_type": "code",
   "execution_count": null,
   "metadata": {},
   "outputs": [],
   "source": [
    "import torch\n",
    "data = torch.load(\"/home/hk-project-test-mlperf/om1434/masterarbeit/wind_fusion/pangu_pytorch/result/PowerConv/PanguPowerConv_Test23/24/png/2018010200_target_power.pt\")\n",
    "data = torch.flip(data, [0])"
   ]
  },
  {
   "cell_type": "code",
   "execution_count": null,
   "metadata": {},
   "outputs": [],
   "source": [
    "def plot_data(data, filename):\n",
    "    import numpy as np\n",
    "    import matplotlib.pyplot as plt\n",
    "    import cartopy.crs as ccrs\n",
    "    import cartopy.feature as cfeature\n",
    "\n",
    "    visible_coords = [-22, 38.5, 31, 69]  # [lon_min, lon_max, lat_min, lat_max]\n",
    "    color_coords = [-22, 45.55, 26.4, 72.5]  # [lon_min, lon_max, lat_min, lat_max]\n",
    "\n",
    "    # Generate a color gradient\n",
    "    lon_vals = np.linspace(color_coords[0], color_coords[1], 300)\n",
    "    lat_vals = np.linspace(color_coords[2], color_coords[3], 300)\n",
    "\n",
    "    plt.figure(figsize=(4, 6), dpi=300)\n",
    "    ax = plt.axes(projection=ccrs.Orthographic(central_longitude=11.5, central_latitude=49.5))\n",
    "    ax.set_extent(visible_coords, crs=ccrs.PlateCarree())  # Crop to the Europe area\n",
    "    ax.coastlines(resolution='50m', linewidth=0.5, color='gray')\n",
    "    ax.add_feature(cfeature.BORDERS, linewidth=0.5, color='gray')\n",
    "\n",
    "    # Plot the color gradient with imshow\n",
    "    plot = ax.imshow(data, extent=color_coords, origin='lower', transform=ccrs.PlateCarree(), cmap='coolwarm', alpha=0.8)\n",
    "    plt.colorbar(plot, ax=ax, fraction=0.037, pad=0.05)\n",
    "\n",
    "    # Set finer gridlines with 10-degree resolution\n",
    "    gl = ax.gridlines(draw_labels=True, xlocs=np.arange(-180, 181, 10), ylocs=np.arange(-90, 91, 10))\n",
    "    gl.top_labels = False\n",
    "    gl.right_labels = False\n",
    "    plt.savefig(\"./\" + filename, dpi=300)\n",
    "    plt.show()\n",
    "\n",
    "# Example usage:\n",
    "plot_data(data, \"data.pdf\")"
   ]
  },
  {
   "cell_type": "code",
   "execution_count": null,
   "metadata": {},
   "outputs": [],
   "source": [
    "data.shape"
   ]
  },
  {
   "cell_type": "code",
   "execution_count": null,
   "metadata": {},
   "outputs": [],
   "source": []
  },
  {
   "cell_type": "markdown",
   "metadata": {},
   "source": [
    "# Visualize LSM"
   ]
  },
  {
   "cell_type": "code",
   "execution_count": null,
   "metadata": {},
   "outputs": [],
   "source": [
    "import sys\n",
    "import os\n",
    "sys.path.append(os.path.abspath(os.path.join(os.getcwd(), os.pardir)))\n",
    "from wind_fusion.pangu_pytorch.era5_data.utils_data import loadLandSeaMask\n",
    "from wind_fusion.pangu_pytorch.era5_data.utils import prepare_europe\n",
    "import torch\n",
    "\n",
    "mask = loadLandSeaMask(fill_value=0)\n",
    "mask = prepare_europe(mask, fill_value=0)\n",
    "# flip mask\n",
    "mask = torch.flip(mask, [0])\n",
    "\n",
    "plot_data(mask, \"land_sea_mask.pdf\")"
   ]
  },
  {
   "cell_type": "code",
   "execution_count": null,
   "metadata": {},
   "outputs": [],
   "source": [
    "mask"
   ]
  },
  {
   "cell_type": "code",
   "execution_count": null,
   "metadata": {},
   "outputs": [],
   "source": []
  }
 ],
 "metadata": {
  "kernelspec": {
   "display_name": "venv_amd",
   "language": "python",
   "name": "python3"
  },
  "language_info": {
   "codemirror_mode": {
    "name": "ipython",
    "version": 3
   },
   "file_extension": ".py",
   "mimetype": "text/x-python",
   "name": "python",
   "nbconvert_exporter": "python",
   "pygments_lexer": "ipython3",
   "version": "3.9.16"
  }
 },
 "nbformat": 4,
 "nbformat_minor": 2
}
