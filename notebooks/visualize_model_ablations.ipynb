{
 "cells": [
  {
   "cell_type": "code",
   "execution_count": null,
   "metadata": {},
   "outputs": [],
   "source": [
    "import pandas as pd\n",
    "import matplotlib.pyplot as plt\n",
    "\n",
    "# Create a dictionary from your data\n",
    "data = {\n",
    "    'Model': [\n",
    "        'PatchRecovery', 'PatchRecovery',\n",
    "        'PowerConv_k1', 'PowerConv_k1', 'PowerConv_k1', 'PowerConv_k1', 'PowerConv_k1', 'PowerConv_k1', 'PowerConv_k1','PowerConv_k1', 'PowerConv_k1',\n",
    "        'PowerConv_k3', 'PowerConv_k3', 'PowerConv_k3', 'PowerConv_k3',\n",
    "        'LoRA', 'LoRA', 'LoRA', 'LoRA', 'LoRA'\n",
    "    ],\n",
    "    'Model Parameters': [\n",
    "        6160, 332160,\n",
    "        131, 259, 1027, 2051, 6339, 10627, 19011, 85699, 350147,\n",
    "        16899, 39619, 53955, 164931,\n",
    "        113000, 202000, 379000, 734000, 1444000\n",
    "    ],\n",
    "    'RMSE': [\n",
    "        0.2347, 0.1619,\n",
    "        0.4255, 0.177, 0.164, 0.1707, 0.1773, 0.1594, 0.159, 0.16, 0.162,\n",
    "        0.183, 0.154, 0.1623, 0.151,\n",
    "        0.1485, 0.1479, 0.1511, 0.148, 0.1491\n",
    "    ]\n",
    "}\n",
    "\n",
    "for key, value in data.items():\n",
    "    print(f\"Length of list in '{key}': {len(value)}\")\n",
    "\n",
    "\n",
    "# Convert data to a DataFrame\n",
    "df = pd.DataFrame(data)\n",
    "\n",
    "# Plot the RMSE for each model setup\n",
    "plt.figure(figsize=(12, 7), dpi=300)\n",
    "line_styles = ['-', '--', '-.', ':']\n",
    "markers = ['o', 's', 'D', '^', 'v', '<', '>', 'p', '*', 'h', 'H', '+', 'x', 'd', '|', '_']\n",
    "\n",
    "for i, model in enumerate(df['Model'].unique()):\n",
    "    subset = df[df['Model'] == model]\n",
    "    plt.plot(subset['Model Parameters'], subset['RMSE'], label=model, linestyle=line_styles[i % len(line_styles)], marker=markers[i % len(markers)])\n",
    "\n",
    "plt.xscale('log')\n",
    "plt.xlabel('Number of model parameters (log scale)')\n",
    "plt.ylabel('RMSE on test data')\n",
    "# plt.title('RMSE vs. Model Parameters for Different Model Setups')\n",
    "plt.legend(title='Model Type')\n",
    "plt.grid(True)\n",
    "\n",
    "# Save the figure as a PDF\n",
    "plt.savefig('model_ablation_rmse\\'s.pdf')\n",
    "\n",
    "plt.show()\n"
   ]
  },
  {
   "cell_type": "code",
   "execution_count": null,
   "metadata": {},
   "outputs": [],
   "source": []
  }
 ],
 "metadata": {
  "kernelspec": {
   "display_name": "venv_amd",
   "language": "python",
   "name": "python3"
  },
  "language_info": {
   "codemirror_mode": {
    "name": "ipython",
    "version": 3
   },
   "file_extension": ".py",
   "mimetype": "text/x-python",
   "name": "python",
   "nbconvert_exporter": "python",
   "pygments_lexer": "ipython3",
   "version": "3.9.16"
  }
 },
 "nbformat": 4,
 "nbformat_minor": 2
}
