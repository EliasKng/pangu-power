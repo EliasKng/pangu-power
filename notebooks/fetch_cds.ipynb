{
 "cells": [
  {
   "cell_type": "code",
   "execution_count": null,
   "id": "7cac20d6f5e4fd03",
   "metadata": {},
   "outputs": [],
   "source": [
    "import sys\n",
    "import os\n",
    "import uuid\n",
    "import zipfile\n",
    "\n",
    "# Add the path to the wind_fusion directory\n",
    "sys.path.append(os.path.abspath(os.path.join(os.getcwd(), os.pardir)))\n",
    "from wind_fusion.utils import fetch_cds"
   ]
  },
  {
   "cell_type": "markdown",
   "id": "4c67ee43d374b156",
   "metadata": {},
   "source": [
    "# Fetch wind power generation"
   ]
  },
  {
   "cell_type": "code",
   "execution_count": null,
   "id": "624486f1e1672271",
   "metadata": {},
   "outputs": [],
   "source": [
    "path = '../data/climate and energy indicators for europe/'\n",
    "filename = f'wind_power_{str(uuid.uuid4())[:4]}.zip'\n",
    "fetch_cds.fetch_wind_power_offshore([\"2022\"], [f'{i:02}' for i in range(1, 13)], path + filename)\n",
    "\n",
    "# Unzip and delete zipfile\n",
    "with zipfile.ZipFile(path + filename, 'r') as zip_ref:\n",
    "    zip_ref.extractall(path)\n",
    "os.remove(path + filename)"
   ]
  },
  {
   "cell_type": "code",
   "execution_count": null,
   "id": "97462ce2",
   "metadata": {},
   "outputs": [],
   "source": [
    "from wind_fusion import energy_dataset\n",
    "import xarray as xr\n",
    "from typing import List\n",
    "\n",
    "\n",
    "def _merge_datasets(filepaths: List[str]) -> xr.Dataset:\n",
    "        ds = xr.Dataset()\n",
    "\n",
    "        for filepath in filepaths:\n",
    "            ds = xr.merge(\n",
    "                [ds, xr.open_dataset(filepath)], compat=\"equals\", join=\"inner\"\n",
    "            )\n",
    "        return ds\n",
    "\n",
    "\n",
    "\n",
    "\n",
    "\n",
    "\n",
    "# energy_wind_data = energy_dataset.EnergyDataset([\"/home/hk-project-test-mlperf/om1434/masterarbeit/data/climate and energy indicators for europe/H_ERA5_ECMW_T639_WOF_0100m_Euro_025d_S202403010000_E202403312300_CFR_MAP_01h_NA-_noc_org_NA_NA---_NA---_PhM01.nc\",\n",
    "#                                                  \"/lsdf/kit/imk-tro/projects/Gruppe_Quinting/ec.era5/1959-2023_01_10-wb13-6h-1440x721.zarr\"])\n",
    "\n",
    "merged = _merge_datasets([\"/home/hk-project-test-mlperf/om1434/masterarbeit/data/climate and energy indicators for europe/H_ERA5_ECMW_T639_WOF_0100m_Euro_025d_S202403010000_E202403312300_CFR_MAP_01h_NA-_noc_org_NA_NA---_NA---_PhM01.nc\",\n",
    "                                                  \"/lsdf/kit/imk-tro/projects/Gruppe_Quinting/ec.era5/1959-2023_01_10-wb13-6h-1440x721.zarr\"])"
   ]
  },
  {
   "cell_type": "code",
   "execution_count": null,
   "id": "5438dc2d",
   "metadata": {},
   "outputs": [],
   "source": [
    "# energy_wind_data.get_dataset()\n",
    "merged"
   ]
  },
  {
   "cell_type": "code",
   "execution_count": null,
   "id": "1590bebc",
   "metadata": {},
   "outputs": [],
   "source": [
    "import os\n",
    "from typing import List\n",
    "path = \"/home/hk-project-test-mlperf/om1434/masterarbeit/data/climate and energy indicators for europe\"\n",
    "\n",
    "def list_files(directory: str) -> List[str]:\n",
    "    return [os.path.join(directory, f) for f in os.listdir(directory) if os.path.isfile(os.path.join(directory, f))]\n",
    "\n",
    "files = list_files(path)\n",
    "files"
   ]
  },
  {
   "cell_type": "code",
   "execution_count": null,
   "id": "11984b49",
   "metadata": {},
   "outputs": [],
   "source": [
    "import xarray as xr\n",
    "xr.concat([xr.open_dataset(f) for f in files], dim=\"time\")"
   ]
  },
  {
   "cell_type": "code",
   "execution_count": null,
   "id": "740fddff",
   "metadata": {},
   "outputs": [],
   "source": [
    "for file in files:\n",
    "    print(xr.open_dataset(file).time)"
   ]
  },
  {
   "cell_type": "code",
   "execution_count": null,
   "id": "88a5e913",
   "metadata": {},
   "outputs": [],
   "source": [
    "import cdsapi\n",
    "import time\n",
    "import threading\n",
    "\n",
    "dataset = \"sis-energy-derived-reanalysis\"\n",
    "request = {\n",
    "    # 'variable': ['wind_power_generation_offshore'],\n",
    "    'variable': [\"wind_power_generation_onshore\"],\n",
    "    'spatial_aggregation': ['original_grid'],\n",
    "    'energy_product_type': ['capacity_factor_ratio'],\n",
    "    'temporal_aggregation': ['hourly'],\n",
    "    'year': None,\n",
    "    'month': ['01', '02', '03', '04', '05', '06', '07', '08', '09', '10', '11', '12']\n",
    "}\n",
    "\n",
    "\n",
    "def retrieve_data(year):\n",
    "    print(f\"Starting job for year: {year}\")\n",
    "    request['year'] = year\n",
    "    client = cdsapi.Client()\n",
    "    client.retrieve(dataset, request)\n",
    "\n",
    "threads = []\n",
    "# for year in [str(y) for y in range(1979, 2024)]:\n",
    "for year in [str(y) for y in [1984,2005,2006]]:\n",
    "    thread = threading.Thread(target=retrieve_data, args=(year,))\n",
    "    threads.append(thread)\n",
    "    thread.start()\n",
    "    time.sleep(1)\n",
    "\n",
    "# Optionally, wait for all threads to complete\n",
    "for thread in threads:\n",
    "    thread.join()\n"
   ]
  }
 ],
 "metadata": {
  "kernelspec": {
   "display_name": "Python 3",
   "language": "python",
   "name": "python3"
  },
  "language_info": {
   "codemirror_mode": {
    "name": "ipython",
    "version": 3
   },
   "file_extension": ".py",
   "mimetype": "text/x-python",
   "name": "python",
   "nbconvert_exporter": "python",
   "pygments_lexer": "ipython3",
   "version": "3.9.16"
  }
 },
 "nbformat": 4,
 "nbformat_minor": 5
}
