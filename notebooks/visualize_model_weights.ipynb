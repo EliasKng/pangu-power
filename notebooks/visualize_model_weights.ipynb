{
 "cells": [
  {
   "cell_type": "code",
   "execution_count": null,
   "metadata": {},
   "outputs": [],
   "source": [
    "import torch\n",
    "import numpy as np\n",
    "import matplotlib.pyplot as plt"
   ]
  },
  {
   "cell_type": "code",
   "execution_count": null,
   "metadata": {},
   "outputs": [],
   "source": [
    "checkpoint = torch.load(\n",
    "    \"/home/hk-project-test-mlperf/om1434/masterarbeit/wind_fusion/pangu_pytorch/result/PowerConv/PanguPowerConv_64_128_64_1_k3_2/24/models/train_10.pth\", \n",
    "    map_location='cpu', \n",
    "    weights_only=False\n",
    ")"
   ]
  },
  {
   "cell_type": "code",
   "execution_count": null,
   "metadata": {},
   "outputs": [],
   "source": [
    "# Get the layer with index 223\n",
    "layer_index = 223\n",
    "layer_name, layer_weights = list(checkpoint['model'].items())[layer_index]\n",
    "\n",
    "# Print the layer with its index\n",
    "print(f\"Index: {layer_index}, Layer: {layer_name}\")\n",
    "print(f\"Weights: {layer_weights}\\n\")"
   ]
  },
  {
   "cell_type": "code",
   "execution_count": null,
   "metadata": {},
   "outputs": [],
   "source": [
    "weights_np = layer_weights.cpu().numpy()"
   ]
  },
  {
   "cell_type": "code",
   "execution_count": null,
   "metadata": {},
   "outputs": [],
   "source": [
    "print(weights_np.shape)\n",
    "aggregated_weights = np.sum(weights_np, axis=0)\n",
    "aggregated_weights = np.sum(aggregated_weights, axis=1)\n",
    "aggregated_weights = np.sum(aggregated_weights, axis=1)\n",
    "print(aggregated_weights.shape)\n",
    "aggregated_weights = np.abs(aggregated_weights)\n"
   ]
  },
  {
   "cell_type": "markdown",
   "metadata": {},
   "source": [
    "First 13 u then 13 v components"
   ]
  },
  {
   "cell_type": "code",
   "execution_count": null,
   "metadata": {},
   "outputs": [],
   "source": [
    "def plot_weights(aggregated_weights):\n",
    "    plt.figure(figsize=(10, 6))\n",
    "    plt.bar(range(len(aggregated_weights)), aggregated_weights)\n",
    "    plt.xlabel('Index')\n",
    "    plt.ylabel('Aggregated Weight Value')\n",
    "    plt.title('Aggregated Weights')\n",
    "    plt.show()\n",
    "\n",
    "plot_weights(aggregated_weights)\n",
    "print(aggregated_weights.shape)"
   ]
  },
  {
   "cell_type": "code",
   "execution_count": null,
   "metadata": {},
   "outputs": [],
   "source": [
    "from matplotlib.patches import FancyBboxPatch\n",
    "\n",
    "# Function to visualize kernels with a transparent box behind the scale\n",
    "def visualize_kernels(kernels):\n",
    "    num_kernels = kernels.shape[0]\n",
    "    num_cols = 7\n",
    "    num_rows = (num_kernels + num_cols - 1) // num_cols  # Ceiling division\n",
    "\n",
    "    fig, axes = plt.subplots(num_rows, num_cols, figsize=(num_cols, num_rows))\n",
    "    vmin, vmax = kernels.min(), kernels.max()  # Get the min and max values for scaling\n",
    "\n",
    "    for i, ax in enumerate(axes.flat):\n",
    "        if i < num_kernels:\n",
    "            cax = ax.imshow(kernels[i], cmap='viridis', vmin=vmin, vmax=vmax)  # Use the same scale\n",
    "            ax.axis('off')\n",
    "        else:\n",
    "            ax.remove()  # Remove empty subplots\n",
    "\n",
    "    fig.colorbar(cax, ax=axes.ravel().tolist(), orientation='vertical', fraction=0.02, pad=0.04)\n",
    "    plt.tight_layout()\n",
    "    plt.show()\n",
    "\n",
    "# Visualize the aggregated kernels\n",
    "visualize_kernels(aggregated_weights)"
   ]
  },
  {
   "cell_type": "code",
   "execution_count": null,
   "metadata": {},
   "outputs": [],
   "source": []
  }
 ],
 "metadata": {
  "kernelspec": {
   "display_name": "venv_amd",
   "language": "python",
   "name": "python3"
  },
  "language_info": {
   "codemirror_mode": {
    "name": "ipython",
    "version": 3
   },
   "file_extension": ".py",
   "mimetype": "text/x-python",
   "name": "python",
   "nbconvert_exporter": "python",
   "pygments_lexer": "ipython3",
   "version": "3.9.16"
  }
 },
 "nbformat": 4,
 "nbformat_minor": 2
}
