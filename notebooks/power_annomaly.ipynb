{
 "cells": [
  {
   "cell_type": "markdown",
   "metadata": {},
   "source": [
    "This notebook aims to calculate the mean power levels for a specified date-range and save them.\n",
    "\n",
    "The mean power is required to calculate the ACC (annomaly correlation coef)."
   ]
  },
  {
   "cell_type": "code",
   "execution_count": null,
   "metadata": {},
   "outputs": [],
   "source": [
    "import sys\n",
    "sys.path.append(\"/hkfs/home/project/hk-project-test-mlperf/om1434/masterarbeit\")\n",
    "sys.path.append(\"/home/hk-project-test-mlperf/om1434/masterarbeit/wind_fusion\")\n",
    "sys.path.append(\"/home/hk-project-test-mlperf/om1434/masterarbeit/wind_fusion/pangu_pytorch\")\n",
    "from wind_fusion.pangu_pytorch.finetune.finetune_power import create_dataloader\n",
    "from wind_fusion.pangu_pytorch.era5_data.config import cfg\n",
    "from datetime import datetime\n",
    "import torch\n",
    "from wind_fusion.pangu_pytorch.era5_data import utils_data"
   ]
  },
  {
   "cell_type": "markdown",
   "metadata": {},
   "source": [
    "48h frequency for 2018 (Test-Data)"
   ]
  },
  {
   "cell_type": "code",
   "execution_count": null,
   "metadata": {},
   "outputs": [],
   "source": [
    "test_dataloader = create_dataloader(\n",
    "        cfg.PG.TEST.START_TIME,\n",
    "        cfg.PG.TEST.END_TIME,\n",
    "        cfg.PG.TEST.FREQUENCY,\n",
    "        cfg.PG.TEST.BATCH_SIZE,\n",
    "        False,\n",
    "    )"
   ]
  },
  {
   "cell_type": "code",
   "execution_count": null,
   "metadata": {},
   "outputs": [],
   "source": [
    "# Initialize accumulators\n",
    "total_sum = None  # To store cumulative sum of `target_power_test`\n",
    "total_samples = 0  # To store total number of samples\n",
    "\n",
    "# Iterate through the test dataloader\n",
    "for id, data in enumerate(test_dataloader, 0):\n",
    "    timestamp = datetime.now().strftime(\"%Y-%m-%d %H:%M:%S\")\n",
    "    print(f\"[{timestamp}] Predicting on batch {id}\")\n",
    "    \n",
    "    (\n",
    "        input_test,\n",
    "        input_surface_test,\n",
    "        target_power_test,\n",
    "        target_upper_test,\n",
    "        target_surface_test,\n",
    "        periods_test,\n",
    "    ) = data\n",
    "\n",
    "    # Sum the target_power_test along the batch axis\n",
    "    batch_sum = target_power_test.sum(dim=0)\n",
    "    \n",
    "    # Update total sum\n",
    "    if total_sum is None:\n",
    "        total_sum = batch_sum\n",
    "    else:\n",
    "        total_sum += batch_sum\n",
    "\n",
    "    # Update sample count\n",
    "    total_samples += target_power_test.shape[0]  # Batch size\n",
    "\n",
    "# Calculate mean\n",
    "mean_per_grid_point = total_sum / total_samples\n",
    "print(\"Mean per grid point calculated.\")\n"
   ]
  },
  {
   "cell_type": "code",
   "execution_count": null,
   "metadata": {},
   "outputs": [],
   "source": [
    "import matplotlib.pyplot as plt\n",
    "\n",
    "# Assuming mean_per_grid_point is a 2D tensor\n",
    "plt.imshow(mean_per_grid_point.squeeze(), cmap='viridis')\n",
    "plt.colorbar()\n",
    "plt.title('Mean Per Grid Point')\n",
    "plt.show()"
   ]
  },
  {
   "cell_type": "markdown",
   "metadata": {},
   "source": [
    "Save mean wind power"
   ]
  },
  {
   "cell_type": "code",
   "execution_count": null,
   "metadata": {},
   "outputs": [],
   "source": [
    "import numpy as np\n",
    "def save_tensor_as_npy(tensor, file_path):\n",
    "    # Convert the torch tensor to a numpy array\n",
    "    numpy_array = tensor.numpy()\n",
    "    # Save the numpy array as a .npy file\n",
    "    np.save(file_path, numpy_array)\n",
    "\n",
    "def load_tensor_from_npy(file_path):\n",
    "    # Load the numpy array from the .npy file\n",
    "    numpy_array = np.load(file_path)\n",
    "    # Convert the numpy array to a torch tensor\n",
    "    tensor = torch.from_numpy(numpy_array)\n",
    "    return tensor\n",
    "\n",
    "\n",
    "# Assuming mean_per_grid_point is already defined as a torch tensor\n",
    "save_path = \"/home/hk-project-test-mlperf/om1434/masterarbeit/wind_fusion/pangu_pytorch/data/aux_data/mean_power_per_grid_point.npy\"\n",
    "save_tensor_as_npy(mean_per_grid_point, save_path)"
   ]
  },
  {
   "cell_type": "code",
   "execution_count": null,
   "metadata": {},
   "outputs": [],
   "source": [
    "test = load_tensor_from_npy(save_path)"
   ]
  },
  {
   "cell_type": "code",
   "execution_count": null,
   "metadata": {},
   "outputs": [],
   "source": [
    "plt.imshow(test.squeeze(), cmap='viridis')"
   ]
  },
  {
   "cell_type": "code",
   "execution_count": null,
   "metadata": {},
   "outputs": [],
   "source": [
    "aux_constants = utils_data.loadAllConstants(device=\"cpu\")\n",
    "\n",
    "surface_mean, _, upper_mean, _ = aux_constants[\"weather_statistics_last\"]"
   ]
  },
  {
   "cell_type": "code",
   "execution_count": null,
   "metadata": {},
   "outputs": [],
   "source": []
  },
  {
   "cell_type": "code",
   "execution_count": null,
   "metadata": {},
   "outputs": [],
   "source": [
    "output_tensor = torch.load(\"/home/hk-project-test-mlperf/om1434/masterarbeit/wind_fusion/pangu_pytorch/result/Test/model_output/target_('2016042812',).pth\", map_location=\"cpu\")\n",
    "\n",
    "plt.imshow(output_tensor.squeeze().detach().numpy(), cmap='viridis')"
   ]
  },
  {
   "cell_type": "code",
   "execution_count": null,
   "metadata": {},
   "outputs": [],
   "source": [
    "weather_anomaly = output_tensor - mean_per_grid_point"
   ]
  },
  {
   "cell_type": "code",
   "execution_count": null,
   "metadata": {},
   "outputs": [],
   "source": [
    "plt.imshow(weather_anomaly.squeeze().detach().numpy(), cmap='viridis')\n",
    "plt.colorbar()"
   ]
  },
  {
   "cell_type": "code",
   "execution_count": null,
   "metadata": {},
   "outputs": [],
   "source": []
  }
 ],
 "metadata": {
  "kernelspec": {
   "display_name": "venv_amd",
   "language": "python",
   "name": "python3"
  },
  "language_info": {
   "codemirror_mode": {
    "name": "ipython",
    "version": 3
   },
   "file_extension": ".py",
   "mimetype": "text/x-python",
   "name": "python",
   "nbconvert_exporter": "python",
   "pygments_lexer": "ipython3",
   "version": "3.9.16"
  }
 },
 "nbformat": 4,
 "nbformat_minor": 2
}
