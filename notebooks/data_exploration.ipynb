{
 "cells": [
  {
   "cell_type": "code",
   "execution_count": null,
   "id": "initial_id",
   "metadata": {},
   "outputs": [],
   "source": [
    "import pandas as pd"
   ]
  },
  {
   "cell_type": "code",
   "execution_count": null,
   "id": "fb5a6a6f44dcfd5a",
   "metadata": {},
   "outputs": [],
   "source": [
    "energy = pd.read_csv(r\"../data/climate and energy indicators for europe/H_ERA5_ECMW_T639_WON_0100m_Euro_NUT0_S197901010000_E202407312300_NRG_TIM_01h_NA-_noc_org_NA_NA---_NA---_PhM01.csv\")\n",
    "wind = pd.read_csv(r\"../data/climate and energy indicators for europe/H_ERA5_ECMW_T639_WS-_0100m_Euro_NUT0_S197901010000_E202407312300_INS_TIM_01h_NA-_noc_org_NA_NA---_NA---_NA---.csv\")"
   ]
  },
  {
   "cell_type": "code",
   "execution_count": null,
   "id": "fca2423db9b4232e",
   "metadata": {},
   "outputs": [],
   "source": [
    "wind"
   ]
  },
  {
   "cell_type": "code",
   "execution_count": null,
   "id": "3ee92d247d24916b",
   "metadata": {},
   "outputs": [],
   "source": [
    "energy.Date = pd.to_datetime(energy.Date)\n",
    "energy = energy.set_index(\"Date\")\n",
    "\n",
    "wind.Date = pd.to_datetime(wind.Date)\n",
    "wind = wind.set_index(\"Date\")"
   ]
  },
  {
   "cell_type": "code",
   "execution_count": null,
   "id": "a204930c01fdcb51",
   "metadata": {},
   "outputs": [],
   "source": [
    "energy[\"DE\"].tail(100).plot()"
   ]
  },
  {
   "cell_type": "code",
   "execution_count": null,
   "id": "b270b12cff5c4d6b",
   "metadata": {},
   "outputs": [],
   "source": [
    "wind[\"DE\"].tail(100).plot()"
   ]
  },
  {
   "cell_type": "markdown",
   "id": "62d42886a207c10c",
   "metadata": {
    "collapsed": false
   },
   "source": [
    "# Yearly energy generation"
   ]
  },
  {
   "cell_type": "code",
   "execution_count": null,
   "id": "60ee9a2d5b875af8",
   "metadata": {},
   "outputs": [],
   "source": [
    "energy[\"DE\"].rolling(24*365).mean().plot()"
   ]
  },
  {
   "cell_type": "code",
   "execution_count": null,
   "id": "3304a43e10065a93",
   "metadata": {},
   "outputs": [],
   "source": [
    "energy['year'] = energy.index.year\n",
    "energy[['year','DE']].groupby('year').mean().plot()"
   ]
  },
  {
   "cell_type": "code",
   "execution_count": null,
   "id": "ffbd09fe53dcbc73",
   "metadata": {},
   "outputs": [],
   "source": [
    "energy[['year','DE']].groupby('year').mean().sort_values(by='DE')"
   ]
  },
  {
   "cell_type": "code",
   "execution_count": null,
   "id": "a0e2c18ce115a2df",
   "metadata": {},
   "outputs": [],
   "source": []
  }
 ],
 "metadata": {
  "kernelspec": {
   "display_name": "Python 3",
   "language": "python",
   "name": "python3"
  },
  "language_info": {
   "codemirror_mode": {
    "name": "ipython",
    "version": 2
   },
   "file_extension": ".py",
   "mimetype": "text/x-python",
   "name": "python",
   "nbconvert_exporter": "python",
   "pygments_lexer": "ipython2",
   "version": "2.7.6"
  }
 },
 "nbformat": 4,
 "nbformat_minor": 5
}
