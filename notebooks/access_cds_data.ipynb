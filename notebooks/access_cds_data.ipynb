{
 "cells": [
  {
   "cell_type": "code",
   "execution_count": null,
   "id": "initial_id",
   "metadata": {
    "ExecuteTime": {
     "end_time": "2024-08-23T12:53:36.076077Z",
     "start_time": "2024-08-23T12:53:35.817483Z"
    }
   },
   "outputs": [],
   "source": [
    "from wind_fusion import energy_dataset\n",
    "import importlib\n",
    "\n",
    "importlib.reload(energy_dataset)\n",
    "\n",
    "energy_wind_data = energy_dataset.EnergyDataset([\n",
    "    '../data/climate and energy indicators for europe/H_ERA5_ECMW_T639_WOF_0100m_Euro_025d_S202402010000_E202402292300_CFR_MAP_01h_NA-_noc_org_NA_NA---_NA---_PhM01.nc', \n",
    "    '../data/climate and energy indicators for europe/H_ERA5_ECMW_T639_WS-_0100m_Euro_025d_S202402010000_E202402292300_INS_MAP_01h_NA-_noc_org_NA_NA---_NA---_NA---.nc'\n",
    "])\n",
    "energy_wind_data.get_dataset()"
   ]
  },
  {
   "cell_type": "code",
   "execution_count": null,
   "id": "e2175179acecc039",
   "metadata": {},
   "outputs": [],
   "source": []
  }
 ],
 "metadata": {
  "kernelspec": {
   "display_name": "Python 3 (ipykernel)",
   "language": "python",
   "name": "python3"
  },
  "language_info": {
   "codemirror_mode": {
    "name": "ipython",
    "version": 3
   },
   "file_extension": ".py",
   "mimetype": "text/x-python",
   "name": "python",
   "nbconvert_exporter": "python",
   "pygments_lexer": "ipython3",
   "version": "3.12.4"
  }
 },
 "nbformat": 4,
 "nbformat_minor": 5
}
