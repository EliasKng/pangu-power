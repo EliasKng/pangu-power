{
 "cells": [
  {
   "cell_type": "code",
   "execution_count": null,
   "id": "initial_id",
   "metadata": {
    "ExecuteTime": {
     "end_time": "2024-08-23T14:28:43.899493Z",
     "start_time": "2024-08-23T14:28:43.893362Z"
    }
   },
   "outputs": [],
   "source": [
    "import sys\n",
    "import os\n",
    "# Add the path to the wind_fusion directory\n",
    "sys.path.append(os.path.abspath(os.path.join(os.getcwd(), os.pardir)))\n",
    "from wind_fusion import forecasting\n",
    "from wind_fusion import energy_dataset\n",
    "\n",
    "import importlib\n",
    "importlib.reload(forecasting)"
   ]
  },
  {
   "cell_type": "markdown",
   "id": "2eb7306f837b581d",
   "metadata": {},
   "source": [
    "# Persistence forecast"
   ]
  },
  {
   "cell_type": "code",
   "execution_count": null,
   "id": "b91a8bb93bd7a063",
   "metadata": {
    "ExecuteTime": {
     "end_time": "2024-08-23T14:43:14.379815Z",
     "start_time": "2024-08-23T14:43:14.340990Z"
    }
   },
   "outputs": [],
   "source": [
    "energy_wind_data = energy_dataset.EnergyDataset([\n",
    "    '../data/climate and energy indicators for europe/H_ERA5_ECMW_T639_WOF_0100m_Euro_025d_S202402010000_E202402292300_CFR_MAP_01h_NA-_noc_org_NA_NA---_NA---_PhM01.nc', \n",
    "    '../data/climate and energy indicators for europe/H_ERA5_ECMW_T639_WS-_0100m_Euro_025d_S202402010000_E202402292300_INS_MAP_01h_NA-_noc_org_NA_NA---_NA---_NA---.nc'\n",
    "])\n",
    "mvg_avg_fc = forecasting.MovingAverageForecast(energy_wind_data, 3)"
   ]
  }
 ],
 "metadata": {
  "kernelspec": {
   "display_name": "Python 3",
   "language": "python",
   "name": "python3"
  },
  "language_info": {
   "codemirror_mode": {
    "name": "ipython",
    "version": 2
   },
   "file_extension": ".py",
   "mimetype": "text/x-python",
   "name": "python",
   "nbconvert_exporter": "python",
   "pygments_lexer": "ipython2",
   "version": "2.7.6"
  }
 },
 "nbformat": 4,
 "nbformat_minor": 5
}
