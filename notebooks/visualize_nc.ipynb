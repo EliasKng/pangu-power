{
 "cells": [
  {
   "cell_type": "code",
   "execution_count": null,
   "id": "initial_id",
   "metadata": {
    "ExecuteTime": {
     "end_time": "2024-08-22T11:36:10.954063Z",
     "start_time": "2024-08-22T11:36:10.951818Z"
    }
   },
   "outputs": [],
   "source": [
    "import numpy as np\n",
    "import xarray as xr\n",
    "import cartopy.crs as ccrs\n",
    "from ipykernel.eventloops import enable_gui"
   ]
  },
  {
   "cell_type": "code",
   "execution_count": null,
   "id": "953e72cc",
   "metadata": {},
   "outputs": [],
   "source": [
    "import os\n",
    "import random\n",
    "import torch\n",
    "import matplotlib.pyplot as plt\n",
    "import numpy as np\n",
    "\n",
    "# Define the folder path\n",
    "folder_path = \"/lsdf/kit/imk-tro/projects/Gruppe_Quinting/om1434/pangu_outputs\"\n",
    "\n",
    "# Get a list of all files in the folder\n",
    "all_files = [f for f in os.listdir(folder_path) if f.endswith('.pth') and 'surface' in f]\n",
    "\n",
    "# Take a sample of 1 file\n",
    "sample_file = random.choice(all_files)\n",
    "\n",
    "# Load the file\n",
    "file_path = os.path.join(folder_path, sample_file)\n",
    "data = torch.load(file_path, map_location='cpu')\n"
   ]
  },
  {
   "cell_type": "code",
   "execution_count": null,
   "id": "6d92c0b2",
   "metadata": {},
   "outputs": [],
   "source": [
    "# Assuming the data is a 2D tensor, convert it to numpy array\n",
    "for j in range(0, 4):\n",
    "    data_np = data.detach().numpy()[0, j, :, :]\n",
    "    data_np = np.flip(data_np, axis=0)\n",
    "\n",
    "    # Plot the data\n",
    "    plt.figure(dpi=300)\n",
    "    plt.imshow(data_np, origin='lower', cmap='viridis')\n",
    "    plt.axis('off')\n",
    "    plt.savefig(f'./{j}_surface.png', transparent=True, bbox_inches='tight', pad_inches=0)\n",
    "    plt.close()\n"
   ]
  },
  {
   "cell_type": "code",
   "execution_count": null,
   "id": "6d415f2da5f69567",
   "metadata": {
    "ExecuteTime": {
     "end_time": "2024-08-22T11:36:10.995764Z",
     "start_time": "2024-08-22T11:36:10.972348Z"
    }
   },
   "outputs": [],
   "source": [
    "da_i = xr.load_dataset(\"../pangu_inference/output_data/input_sfc_2023-05-10.nc\")\n",
    "wind_speed = np.sqrt(da_i['U10M']**2 + da_i['V10M']**2)\n",
    "da_i['WindSpeed'] = wind_speed\n",
    "\n",
    "\n",
    "ws = da_i['WindSpeed'].values\n",
    "import matplotlib.pyplot as plt\n",
    "\n",
    "# Flip the array horizontally\n",
    "ws_flipped = np.flipud(ws)\n",
    "# ws_flipped = np.fliplr(ws_flipped)\n",
    "\n",
    "plt.imshow(ws_flipped, origin='lower')\n",
    "plt.xticks([])\n",
    "plt.yticks([])\n",
    "# plt.colorbar(label='Wind Speed (m/s)')\n",
    "# plt.title('Wind Speed')\n",
    "# plt.xlabel('Longitude')\n",
    "# plt.ylabel('Latitude')\n",
    "plt.show()"
   ]
  },
  {
   "cell_type": "code",
   "execution_count": null,
   "id": "515aad2e667c921d",
   "metadata": {
    "ExecuteTime": {
     "end_time": "2024-08-22T11:36:11.663949Z",
     "start_time": "2024-08-22T11:36:11.009052Z"
    }
   },
   "outputs": [],
   "source": [
    "da_i.WindSpeed.plot()"
   ]
  },
  {
   "cell_type": "code",
   "execution_count": null,
   "id": "24e9f19716ccbaea",
   "metadata": {
    "ExecuteTime": {
     "end_time": "2024-08-22T11:36:11.816886Z",
     "start_time": "2024-08-22T11:36:11.713504Z"
    }
   },
   "outputs": [],
   "source": [
    "da_o = xr.load_dataset(\"../pangu_inference/output_data/fc_pl_2023-05-10.nc\")"
   ]
  },
  {
   "cell_type": "code",
   "execution_count": null,
   "id": "5add484bc990df78",
   "metadata": {
    "ExecuteTime": {
     "end_time": "2024-08-22T11:36:17.138366Z",
     "start_time": "2024-08-22T11:36:11.829008Z"
    }
   },
   "outputs": [],
   "source": [
    "da_o.T.plot(col=\"plev\")\n",
    "# da_o"
   ]
  },
  {
   "cell_type": "code",
   "execution_count": null,
   "id": "33562a98ae5edb7e",
   "metadata": {
    "ExecuteTime": {
     "end_time": "2024-08-22T11:36:17.197840Z",
     "start_time": "2024-08-22T11:36:17.149540Z"
    }
   },
   "outputs": [],
   "source": [
    "da_o = xr.load_dataset(\"../pangu_inference/output_data/fc_sfc_2023-05-10.nc\")\n",
    "wind_speed = np.sqrt(da_o['U10M']**2 + da_o['V10M']**2)\n",
    "da_o['WindSpeed'] = wind_speed\n",
    "da_o"
   ]
  },
  {
   "cell_type": "code",
   "execution_count": null,
   "id": "405a5d4f892aa3a",
   "metadata": {
    "ExecuteTime": {
     "end_time": "2024-08-22T11:36:17.799326Z",
     "start_time": "2024-08-22T11:36:17.321093Z"
    }
   },
   "outputs": [],
   "source": [
    "da_o.WindSpeed.plot()"
   ]
  },
  {
   "cell_type": "code",
   "execution_count": null,
   "id": "c462861a44413134",
   "metadata": {
    "ExecuteTime": {
     "end_time": "2024-08-22T11:36:52.633434Z",
     "start_time": "2024-08-22T11:36:52.628894Z"
    }
   },
   "outputs": [],
   "source": [
    "wind_delta = da_i['WindSpeed'] - da_o['WindSpeed']"
   ]
  },
  {
   "cell_type": "code",
   "execution_count": null,
   "id": "7feab5d2e4ff8ed5",
   "metadata": {
    "ExecuteTime": {
     "end_time": "2024-08-22T11:37:12.977264Z",
     "start_time": "2024-08-22T11:37:12.431640Z"
    }
   },
   "outputs": [],
   "source": [
    "wind_delta.plot()"
   ]
  },
  {
   "cell_type": "code",
   "execution_count": null,
   "id": "4a55eed8b5dc33f3",
   "metadata": {},
   "outputs": [],
   "source": [
    "    "
   ]
  }
 ],
 "metadata": {
  "kernelspec": {
   "display_name": "venv_amd",
   "language": "python",
   "name": "python3"
  },
  "language_info": {
   "codemirror_mode": {
    "name": "ipython",
    "version": 3
   },
   "file_extension": ".py",
   "mimetype": "text/x-python",
   "name": "python",
   "nbconvert_exporter": "python",
   "pygments_lexer": "ipython3",
   "version": "3.9.16"
  }
 },
 "nbformat": 4,
 "nbformat_minor": 5
}
